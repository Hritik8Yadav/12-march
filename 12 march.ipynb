{
 "cells": [
  {
   "cell_type": "code",
   "execution_count": 1,
   "id": "5f90755a-7cc0-4a72-a335-3a2d7594402b",
   "metadata": {},
   "outputs": [],
   "source": [
    "import scipy.stats as stats\n",
    "import numpy as np\n",
    "import math\n",
    "import matplotlib.pyplot as pt"
   ]
  },
  {
   "cell_type": "code",
   "execution_count": 4,
   "id": "056f7281-c75c-48c0-bb6a-6b881f98d6b8",
   "metadata": {},
   "outputs": [
    {
     "name": "stdout",
     "output_type": "stream",
     "text": [
      "The cofidence interval is between:  48.1329693162095  and  51.8670306837905\n"
     ]
    }
   ],
   "source": [
    "#Ans1:\n",
    "mean=50 \n",
    "std=5\n",
    "ci=0.95\n",
    "sl=(1-ci)/2\n",
    "n=30 #let the sample size be 30\n",
    "t_value=stats.t.ppf(ci+sl,df=n-1)\n",
    "moe=t_value*std/(n**0.5)\n",
    "up_limit=mean+moe\n",
    "l_limit=mean-moe\n",
    "print(\"The cofidence interval is between: \",l_limit,\" and \",up_limit)"
   ]
  },
  {
   "cell_type": "code",
   "execution_count": 10,
   "id": "14c28d50-1e7d-4df9-93d0-a7c4c5f7cbc8",
   "metadata": {},
   "outputs": [
    {
     "name": "stdout",
     "output_type": "stream",
     "text": [
      "we accept the null hypothesis i.e. there is relation between the observed and expected frequency\n"
     ]
    }
   ],
   "source": [
    "#Ans2: given:\n",
    "n=100 #let as the sample is not given\n",
    "exp=[0.20*n,.20*n,.20*n,.10*n,.10*n,.20*n]\n",
    "obs=[18,22,21,11,8,20]\n",
    "sl=0.05\n",
    "dof=len(obs)-1\n",
    "crit_value=stats.chi2.ppf(1-sl,df=dof)\n",
    "chi_value,p_value=stats.chisquare(exp,obs)\n",
    "if crit_value<chi_value:\n",
    "    print('we reject the null hypothesis i.e. there is no relation between the observed and expected frequency.')\n",
    "else: \n",
    "    print('we accept the null hypothesis i.e. there is relation between the observed and expected frequency')"
   ]
  },
  {
   "cell_type": "code",
   "execution_count": 16,
   "id": "cf113f98-7e37-4a83-b8de-a256a75ad68c",
   "metadata": {},
   "outputs": [
    {
     "name": "stdout",
     "output_type": "stream",
     "text": [
      "7.857142857142857 0.16428649429060846\n"
     ]
    },
    {
     "data": {
      "text/plain": [
       "' In the above the table the Group A and Group B frequencies are 8 value aparts from each other and the p value \\n    of .16 tells us that there is not much association beween Group A and Group B as it is more then 0.05\\n'"
      ]
     },
     "execution_count": 16,
     "metadata": {},
     "output_type": "execute_result"
    }
   ],
   "source": [
    "#Ans3: Given,\n",
    "out_1=[20,15]\n",
    "out_2=[10,25]\n",
    "out_3=[15,20]\n",
    "cat=np.array([out_1,out_2,out_3])\n",
    "chi_sq_statistic,p_value=stats.chisquare(cat,axis=None)\n",
    "print(chi_sq_statistic,p_value)\n",
    "''' In the above the table the Group A and Group B frequencies are 8 value aparts from each other and the p value \n",
    "    of .16 tells us that there is not much association beween Group A and Group B as it is more then 0.05\n",
    "'''"
   ]
  },
  {
   "cell_type": "code",
   "execution_count": 19,
   "id": "2c10f217-408f-492b-9b53-93e4e690c8af",
   "metadata": {},
   "outputs": [
    {
     "name": "stdout",
     "output_type": "stream",
     "text": [
      "0.12\n",
      "The 95% confidence interval for the smoker is between:  0.11893097167717132  and  0.12106902832282868\n"
     ]
    }
   ],
   "source": [
    "#Ans4: Given,\n",
    "n=500\n",
    "smokers=60\n",
    "s_prop=60/500\n",
    "std=math.sqrt(s_prop*(1-s_prop)/n)\n",
    "ci=.95\n",
    "z=stats.norm.ppf(ci)\n",
    "se=std/math.sqrt(n)\n",
    "moe=z*se\n",
    "u_limit=s_prop+moe\n",
    "l_limit=s_prop-moe\n",
    "print(s_prop)\n",
    "print(\"The 95% confidence interval for the smoker is between: \",l_limit,\" and \",u_limit)"
   ]
  },
  {
   "cell_type": "code",
   "execution_count": 7,
   "id": "a38d3d78-5881-4e21-af95-718b1e1574b0",
   "metadata": {},
   "outputs": [
    {
     "name": "stdout",
     "output_type": "stream",
     "text": [
      "The 90% ci ranges between:  73.00753061280433  and  76.99246938719567\n"
     ]
    }
   ],
   "source": [
    "#Ans5: Given,\n",
    "x_bar=75\n",
    "std=12\n",
    "ci=.90\n",
    "n=100 #let the sample size be 100 as the size is not given\n",
    "# using the t test because sample standard deviation is given\n",
    "t_crit=stats.t.ppf(ci+((1-ci)/2),df=n-1)\n",
    "se=std/math.sqrt(n)\n",
    "margin_of_error=se*t_crit\n",
    "l_limit=x_bar-margin_of_error\n",
    "u_limit=x_bar+margin_of_error\n",
    "print(\"The 90% ci ranges between: \",l_limit,\" and \",u_limit)"
   ]
  },
  {
   "cell_type": "code",
   "execution_count": 20,
   "id": "92fda618-7edb-4d32-bf23-57ce18fa06c4",
   "metadata": {},
   "outputs": [
    {
     "data": {
      "text/plain": [
       "<matplotlib.collections.PolyCollection at 0x7f16b1f2e530>"
      ]
     },
     "execution_count": 20,
     "metadata": {},
     "output_type": "execute_result"
    },
    {
     "data": {
      "image/png": "[encoded data removed]",
      "text/plain": [
       "<Figure size 640x480 with 1 Axes>"
      ]
     },
     "metadata": {},
     "output_type": "display_data"
    }
   ],
   "source": [
    "#Ans6:\n",
    "df=10\n",
    "x=np.linspace(0,30,100)\n",
    "y=stats.chi2.pdf(x,df)\n",
    "plr=pt.plot(x,y)\n",
    "pt.xlabel('chi-square statistics')\n",
    "pt.ylabel('pdf')\n",
    "pt.fill_between(x[x >= 15], y[x >= 15], color='blue', alpha=0.5)\n"
   ]
  },
  {
   "cell_type": "code",
   "execution_count": 28,
   "id": "42d004bb-2556-4261-a0e4-e2291388df5b",
   "metadata": {},
   "outputs": [
    {
     "name": "stdout",
     "output_type": "stream",
     "text": [
      " 99% confidence interval for the true proportion of people in the population who prefer Coke:  0.5187131160924097  and  0.5212868839075904\n"
     ]
    }
   ],
   "source": [
    "#Ans7: Given,\n",
    "n=1000\n",
    "p=520/1000\n",
    "ci=.99\n",
    "std=math.sqrt(p*(1-p)/n)\n",
    "z=stats.norm.ppf(ci+((1-ci)/2))\n",
    "se=std/math.sqrt(n)\n",
    "moe=z*se\n",
    "l_limit=(p-moe)\n",
    "u_limit=(p+moe)\n",
    "print(\" 99% confidence interval for the true proportion of people in the population who prefer Coke: \",l_limit,\" and \",u_limit)"
   ]
  },
  {
   "cell_type": "code",
   "execution_count": 9,
   "id": "e6d65242-22b5-46d0-99b8-a370805dcdfe",
   "metadata": {},
   "outputs": [
    {
     "name": "stdout",
     "output_type": "stream",
     "text": [
      "The hypothesis is accepted i.e. the coin is fair\n"
     ]
    }
   ],
   "source": [
    "#Ans8: Given:\n",
    "obs_data=[45,55]\n",
    "exp_data=[50,50]\n",
    "sl=0.05\n",
    "dof=1\n",
    "crit_val=stats.chi2.ppf(1-sl,df=dof)\n",
    "chi_val,p_value=stats.chisquare(obs_data,exp_data,axis=None)\n",
    "if chi_val>crit_val:\n",
    "    print('The hypothesis is rejected i.e. the coin is not fair')\n",
    "else:\n",
    "    print('The hypothesis is accepted i.e. the coin is fair')"
   ]
  },
  {
   "cell_type": "code",
   "execution_count": 12,
   "id": "eaeece39-b905-47a7-822e-ff319b4737ca",
   "metadata": {},
   "outputs": [
    {
     "data": {
      "text/plain": [
       "35.294117647058826"
      ]
     },
     "execution_count": 12,
     "metadata": {},
     "output_type": "execute_result"
    }
   ],
   "source": [
    "#Ans9: Given:\n",
    "smoker=[60,140]\n",
    "non_smoker=[30,170]\n",
    "sl=0.05\n",
    "dof=1\n",
    "crit_val=stats.chi2.ppf(1-sl,df=dof)\n",
    "chi_val,p_value=stats.chisquare(smoker,non_smoker)\n",
    "if chi_val>crit_val:\n",
    "    print('we reject the null hypothesis i.e. there is relation between the smoker and lung cancer')\n",
    "else:\n",
    "    print('we accpet the null hypothesis i.e. there is no relation.')"
   ]
  },
  {
   "cell_type": "code",
   "execution_count": 2,
   "id": "209f854b-5783-4abe-aa56-a8523389d2ea",
   "metadata": {},
   "outputs": [
    {
     "name": "stdout",
     "output_type": "stream",
     "text": [
      "we reject the null hypothesis i.e. there is relation\n"
     ]
    }
   ],
   "source": [
    "#Ans10: Given:\n",
    "n=500\n",
    "obs=[200,150,150]\n",
    "exp=[225,175,100]\n",
    "dof=len(obs)-1\n",
    "sl=0.01\n",
    "crit_val=stats.chi2.ppf(1-sl,df=dof)\n",
    "chi_val,p_value=stats.chisquare(obs,exp)\n",
    "if chi_val>crit_val:\n",
    "    print('we reject the null hypothesis i.e. there is relation')\n",
    "else:\n",
    "    print('we accpet the null hypothesis i.e. there is no relation.')\n"
   ]
  },
  {
   "cell_type": "code",
   "execution_count": 3,
   "id": "55be61aa-4830-4dc3-96a1-44e50f9b000c",
   "metadata": {},
   "outputs": [
    {
     "name": "stdout",
     "output_type": "stream",
     "text": [
      "Reject null hypothesis\n"
     ]
    }
   ],
   "source": [
    "#Ans11:\n",
    "sample_mean = 72\n",
    "sample_sd = 10\n",
    "sample_size = 30\n",
    "hypothesized_mean = 70\n",
    "alpha = 0.05\n",
    "\n",
    "t_stat = (sample_mean - hypothesized_mean) / (sample_sd / (sample_size ** 0.5))\n",
    "critical_value = stats.t.ppf(alpha/2, df=sample_size-1)\n",
    "p_value = stats.t.sf(abs(t_stat), df=sample_size-1) * 2 \n",
    "\n",
    "if abs(t_stat) > critical_value:\n",
    "    print(\"Reject null hypothesis\")\n",
    "else:\n",
    "    print(\"Fail to reject null hypothesis\")\n"
   ]
  },
  {
   "cell_type": "code",
   "execution_count": null,
   "id": "1b3832d2-11ff-46d9-a20b-327ab91a09bb",
   "metadata": {},
   "outputs": [],
   "source": []
  }
 ],
 "metadata": {
  "kernelspec": {
   "display_name": "Python 3 (ipykernel)",
   "language": "python",
   "name": "python3"
  },
  "language_info": {
   "codemirror_mode": {
    "name": "ipython",
    "version": 3
   },
   "file_extension": ".py",
   "mimetype": "text/x-python",
   "name": "python",
   "nbconvert_exporter": "python",
   "pygments_lexer": "ipython3",
   "version": "3.10.8"
  }
 },
 "nbformat": 4,
 "nbformat_minor": 5
}
